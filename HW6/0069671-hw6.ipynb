{
 "cells": [
  {
   "cell_type": "markdown",
   "id": "d52c7ec8",
   "metadata": {
    "pycharm": {
     "name": "#%% md\n"
    }
   },
   "source": [
    "# Homework 06: Support Vector Machine Classification\n",
    "## Kerem Girenes\n",
    "### April 28, 2022"
   ]
  },
  {
   "cell_type": "code",
   "execution_count": 1,
   "id": "33622b40",
   "metadata": {
    "pycharm": {
     "name": "#%%\n"
    }
   },
   "outputs": [
    {
     "ename": "ModuleNotFoundError",
     "evalue": "No module named 'cvxopt'",
     "output_type": "error",
     "traceback": [
      "\u001B[0;31m---------------------------------------------------------------------------\u001B[0m",
      "\u001B[0;31mModuleNotFoundError\u001B[0m                       Traceback (most recent call last)",
      "\u001B[0;32m/var/folders/4j/0xjkm0ps2gbdgjc9pg38h2bw0000gn/T/ipykernel_45505/1249209955.py\u001B[0m in \u001B[0;36m<module>\u001B[0;34m\u001B[0m\n\u001B[1;32m      3\u001B[0m \u001B[0;32mimport\u001B[0m \u001B[0mpandas\u001B[0m \u001B[0;32mas\u001B[0m \u001B[0mpd\u001B[0m\u001B[0;34m\u001B[0m\u001B[0;34m\u001B[0m\u001B[0m\n\u001B[1;32m      4\u001B[0m \u001B[0;32mimport\u001B[0m \u001B[0mscipy\u001B[0m\u001B[0;34m.\u001B[0m\u001B[0mspatial\u001B[0m\u001B[0;34m.\u001B[0m\u001B[0mdistance\u001B[0m \u001B[0;32mas\u001B[0m \u001B[0mdt\u001B[0m\u001B[0;34m\u001B[0m\u001B[0;34m\u001B[0m\u001B[0m\n\u001B[0;32m----> 5\u001B[0;31m \u001B[0;32mimport\u001B[0m \u001B[0mcvxopt\u001B[0m \u001B[0;32mas\u001B[0m \u001B[0mcvx\u001B[0m\u001B[0;34m\u001B[0m\u001B[0;34m\u001B[0m\u001B[0m\n\u001B[0m",
      "\u001B[0;31mModuleNotFoundError\u001B[0m: No module named 'cvxopt'"
     ]
    }
   ],
   "source": [
    "import matplotlib.pyplot as plt\n",
    "import numpy as np\n",
    "import pandas as pd\n",
    "import scipy.spatial.distance as dt\n",
    "import cvxopt as cvx"
   ]
  },
  {
   "cell_type": "markdown",
   "id": "c0eb4f3e",
   "metadata": {
    "pycharm": {
     "name": "#%% md\n"
    }
   },
   "source": [
    "## Importing Data"
   ]
  },
  {
   "cell_type": "code",
   "execution_count": 1,
   "id": "36f2c7b5",
   "metadata": {
    "pycharm": {
     "name": "#%%\n"
    }
   },
   "outputs": [
    {
     "ename": "NameError",
     "evalue": "name 'np' is not defined",
     "output_type": "error",
     "traceback": [
      "\u001B[0;31m---------------------------------------------------------------------------\u001B[0m",
      "\u001B[0;31mNameError\u001B[0m                                 Traceback (most recent call last)",
      "\u001B[0;32m/var/folders/4j/0xjkm0ps2gbdgjc9pg38h2bw0000gn/T/ipykernel_87177/3607534064.py\u001B[0m in \u001B[0;36m<module>\u001B[0;34m\u001B[0m\n\u001B[0;32m----> 1\u001B[0;31m \u001B[0mimages\u001B[0m \u001B[0;34m=\u001B[0m \u001B[0mnp\u001B[0m\u001B[0;34m.\u001B[0m\u001B[0mgenfromtxt\u001B[0m\u001B[0;34m(\u001B[0m\u001B[0;34m\"hw06_data_set_images.csv\"\u001B[0m\u001B[0;34m,\u001B[0m \u001B[0mdelimiter\u001B[0m\u001B[0;34m=\u001B[0m\u001B[0;34m\",\"\u001B[0m\u001B[0;34m)\u001B[0m\u001B[0;34m\u001B[0m\u001B[0;34m\u001B[0m\u001B[0m\n\u001B[0m\u001B[1;32m      2\u001B[0m \u001B[0mlabels\u001B[0m \u001B[0;34m=\u001B[0m \u001B[0mnp\u001B[0m\u001B[0;34m.\u001B[0m\u001B[0mgenfromtxt\u001B[0m\u001B[0;34m(\u001B[0m\u001B[0;34m\"hw06_data_set_labels.csv\"\u001B[0m\u001B[0;34m,\u001B[0m \u001B[0mdelimiter\u001B[0m\u001B[0;34m=\u001B[0m\u001B[0;34m\",\"\u001B[0m\u001B[0;34m)\u001B[0m\u001B[0;34m\u001B[0m\u001B[0;34m\u001B[0m\u001B[0m\n",
      "\u001B[0;31mNameError\u001B[0m: name 'np' is not defined"
     ]
    }
   ],
   "source": [
    "images = np.genfromtxt(\"hw06_data_set_images.csv\", delimiter=\",\")\n",
    "labels = np.genfromtxt(\"hw06_data_set_labels.csv\", delimiter=\",\")"
   ]
  },
  {
   "cell_type": "markdown",
   "id": "c611a56b",
   "metadata": {
    "pycharm": {
     "name": "#%% md\n"
    }
   },
   "source": [
    "## Dividing the Data Set"
   ]
  },
  {
   "cell_type": "code",
   "execution_count": 4,
   "id": "00c6bfb7",
   "metadata": {
    "pycharm": {
     "name": "#%%\n"
    }
   },
   "outputs": [],
   "source": [
    "X_train = images[:1000]\n",
    "X_test = images[1000:]\n",
    "y_train = labels[:1000].astype(int)\n",
    "y_test = labels[1000:].astype(int)\n",
    "\n",
    "# two distinct classes\n",
    "K = 2\n",
    "\n",
    "# N_train = N_test\n",
    "N = X_train.shape[0]\n",
    "\n",
    "# Pixel Count\n",
    "PX = X_train.shape[1]\n",
    "\n",
    "# Number of Bins\n",
    "NO_BINS = 64"
   ]
  },
  {
   "cell_type": "markdown",
   "id": "8eca67b3",
   "metadata": {
    "pycharm": {
     "name": "#%% md\n"
    }
   },
   "source": [
    "## Construct Color Histograms for Training and Test Data"
   ]
  },
  {
   "cell_type": "code",
   "execution_count": 5,
   "id": "2166472b",
   "metadata": {
    "pycharm": {
     "name": "#%%\n"
    }
   },
   "outputs": [
    {
     "name": "stdout",
     "output_type": "stream",
     "text": [
      "[[0.86479592 0.00127551 0.         0.00255102 0.        ]\n",
      " [0.66836735 0.         0.00127551 0.00127551 0.        ]\n",
      " [0.66454082 0.00637755 0.00382653 0.00765306 0.00892857]\n",
      " [0.65816327 0.00765306 0.00892857 0.00127551 0.00382653]\n",
      " [0.5625     0.00255102 0.00255102 0.00127551 0.        ]]\n",
      "[[0.68239796 0.00255102 0.00127551 0.00127551 0.00127551]\n",
      " [0.69770408 0.01658163 0.00510204 0.00382653 0.01020408]\n",
      " [0.73341837 0.02678571 0.01530612 0.00510204 0.00637755]\n",
      " [0.63903061 0.00892857 0.00255102 0.00127551 0.        ]\n",
      " [0.75382653 0.00765306 0.00127551 0.00127551 0.        ]]\n"
     ]
    }
   ],
   "source": [
    "bins = np.linspace(0, 1, NO_BINS)\n",
    "\n",
    "H_train = np.zeros((N, NO_BINS))\n",
    "H_test = np.zeros((N, NO_BINS))\n",
    "\n",
    "for xi in range(N):\n",
    "    for pi in range(PX):\n",
    "        # train histogram\n",
    "        b = (X_train[xi][pi]/4).astype(int)\n",
    "        H_train[xi][b] += 1\n",
    "        # test histogram\n",
    "        b = (X_test[xi][pi]/4).astype(int)\n",
    "        H_test[xi][b] += 1\n",
    "    # normalize histograms\n",
    "    H_train[xi] = H_train[xi] / PX\n",
    "    H_test[xi] = H_test[xi] / PX\n",
    "    \n",
    "print(H_train[0:5, 0:5])\n",
    "print(H_test[0:5, 0:5])"
   ]
  },
  {
   "cell_type": "markdown",
   "id": "daa87309",
   "metadata": {
    "pycharm": {
     "name": "#%% md\n"
    }
   },
   "source": [
    "## Construct Kernel Matrices for Training and Test Data"
   ]
  },
  {
   "cell_type": "code",
   "execution_count": 6,
   "id": "f8e6dbac",
   "metadata": {
    "pycharm": {
     "name": "#%%\n"
    }
   },
   "outputs": [
    {
     "name": "stdout",
     "output_type": "stream",
     "text": [
      "[[1.         0.72321429 0.77040816 0.75382653 0.62755102]\n",
      " [0.72321429 1.         0.73086735 0.78571429 0.68622449]\n",
      " [0.77040816 0.73086735 1.         0.84056122 0.70153061]\n",
      " [0.75382653 0.78571429 0.84056122 1.         0.76403061]\n",
      " [0.62755102 0.68622449 0.70153061 0.76403061 1.        ]]\n",
      "[[0.77806122 0.80867347 0.82142857 0.88647959 0.79209184]\n",
      " [0.79464286 0.76403061 0.84566327 0.86607143 0.77933673]\n",
      " [0.8380102  0.74362245 0.85714286 0.83035714 0.68877551]\n",
      " [0.71556122 0.84438776 0.75       0.83418367 0.75765306]\n",
      " [0.84438776 0.76785714 0.82397959 0.84183673 0.73469388]]\n"
     ]
    }
   ],
   "source": [
    "def h_kernel(hi, hj):\n",
    "    res = 0\n",
    "    for l in range(NO_BINS):\n",
    "        res += min(hi[l], hj[l])\n",
    "    return res\n",
    "\n",
    "K_train = np.zeros((N, N))\n",
    "K_test = np.zeros((N, N))\n",
    "\n",
    "for i in range(N):\n",
    "    for j in range(N):\n",
    "        K_train[i][j] = h_kernel(H_train[i], H_train[j])\n",
    "        K_test[i][j] = h_kernel(H_test[i], H_train[j])\n",
    "        \n",
    "print(K_train[0:5, 0:5])\n",
    "print(K_test[0:5, 0:5])"
   ]
  },
  {
   "cell_type": "markdown",
   "id": "7d73eb0a",
   "metadata": {
    "pycharm": {
     "name": "#%% md\n"
    }
   },
   "source": [
    "## Train a SVM Classifier and Calculate the Confusion Matrices"
   ]
  },
  {
   "cell_type": "code",
   "execution_count": null,
   "id": "c0892cb0",
   "metadata": {
    "pycharm": {
     "name": "#%%\n"
    },
    "scrolled": true
   },
   "outputs": [],
   "source": [
    "def train_svm(X_set, y_set, N, s, C, epsilon):\n",
    "    yyK = np.matmul(y_set[:,None], y_set[None,:]) * K_train\n",
    "\n",
    "    P = cvx.matrix(yyK)\n",
    "    q = cvx.matrix(-np.ones((N, 1)))\n",
    "    G = cvx.matrix(np.vstack((-np.eye(N), np.eye(N))))\n",
    "    h = cvx.matrix(np.vstack((np.zeros((N, 1)), C * np.ones((N, 1)))))\n",
    "    A = cvx.matrix(1.0 * y_set[None,:])\n",
    "    b = cvx.matrix(0.0)\n",
    "\n",
    "    # use cvxopt library to solve QP problems\n",
    "    result = cvx.solvers.qp(P, q, G, h, A, b)\n",
    "    alpha = np.reshape(result[\"x\"], N)\n",
    "    alpha[alpha < C * epsilon] = 0\n",
    "    alpha[alpha > C * (1 - epsilon)] = C\n",
    "\n",
    "    # find bias parameter\n",
    "    support_indices, = np.where(alpha != 0)\n",
    "    active_indices, = np.where(np.logical_and(alpha != 0, alpha < C))\n",
    "    w0 = np.mean(y_set[active_indices] * (1 - np.matmul(yyK[np.ix_(active_indices, support_indices)], alpha[support_indices])))\n",
    "    \n",
    "    return alpha, w0\n",
    "\n",
    "def pred(K_train, K_test, s, C, epsilon):\n",
    "    f_pred_train = []\n",
    "    f_pred_test = []\n",
    "    alpha, w0 = train_svm(X_train, y_train, N, s, C, epsilon)\n",
    "    # training predictions\n",
    "    f_pred_train = np.matmul(K_train, y_train[:, None] * alpha[:, None]) + w0\n",
    "    # test predictions\n",
    "    f_pred_test = np.matmul(K_test, y_train[:, None] * alpha[:, None]) + w0\n",
    "    # prediction labels\n",
    "    y_pred_train = 2 * (f_pred_train > 0.0) - 1\n",
    "    y_pred_test = 2 * (f_pred_test > 0.0) - 1\n",
    "    \n",
    "    return y_pred_train, y_pred_test\n",
    "    \n",
    "\n",
    "C = 10\n",
    "s = 1\n",
    "epsilon = 0.001\n",
    "\n",
    "y_pred_train, y_pred_test = pred(K_train, K_test, s, C, epsilon)\n",
    "\n",
    "print(\"Training Confusion Matrix:\")\n",
    "print(pd.crosstab(np.reshape(y_pred_train, N), y_train, rownames = [\"y_predicted\"], colnames = [\"y_train\"]))\n",
    "print(\"Test Confusion Matrix:\")\n",
    "print(pd.crosstab(np.reshape(y_pred_test, N), y_test, rownames = [\"y_predicted\"], colnames = [\"y_test\"]))"
   ]
  },
  {
   "cell_type": "markdown",
   "id": "5be74a8c",
   "metadata": {
    "pycharm": {
     "name": "#%% md\n"
    }
   },
   "source": [
    "## Train SVM by Varying C, Plot Accuracies"
   ]
  },
  {
   "cell_type": "code",
   "execution_count": null,
   "id": "a1ec928b",
   "metadata": {
    "pycharm": {
     "name": "#%%\n"
    }
   },
   "outputs": [],
   "source": [
    "C = [10**-1, 10**-.5, 10**0, 10**.5, 10**1, 10**1.5, 10**2, 10**2.5, 10**3]\n",
    "\n",
    "training_scores = []\n",
    "test_scores = []\n",
    "\n",
    "def accuracy(y_pred, y_truth):\n",
    "    score = 0.0\n",
    "    for i in range(len(y_truth)):\n",
    "        score += (y_pred[i] == y_truth[i]) * 1.0\n",
    "    return score / len(y_truth)\n",
    "\n",
    "for c in C:\n",
    "    y_pred_train, y_pred_test = pred(K_train, K_test, s, c, epsilon)\n",
    "    training_scores.append(accuracy(y_pred_train, y_train))\n",
    "    test_scores.append(accuracy(y_pred_test, y_test))\n",
    "    \n",
    "x_axis_vals = [\"10^-1\", \"10^-0.5\", \"1\", \"10^0.5\", \"10^1\", \"10^1.5\", \"10^2\", \"10^2.5\", \"10^3\"]\n",
    "plt.figure(figsize=(20,6))\n",
    "plt.plot(x_axis_vals, training_scores, \"-ob\", markersize=4, label='training')\n",
    "plt.plot(x_axis_vals, test_scores, \"-or\", markersize=4, label='test')\n",
    "plt.xlabel(\"Regularization parameter (C)\")\n",
    "plt.ylabel(\"Accuracy\")\n",
    "plt.legend(loc='upper left')\n",
    "plt.show()"
   ]
  }
 ],
 "metadata": {
  "kernelspec": {
   "display_name": "Python 3 (ipykernel)",
   "language": "python",
   "name": "python3"
  },
  "language_info": {
   "codemirror_mode": {
    "name": "ipython",
    "version": 3
   },
   "file_extension": ".py",
   "mimetype": "text/x-python",
   "name": "python",
   "nbconvert_exporter": "python",
   "pygments_lexer": "ipython3",
   "version": "3.9.7"
  }
 },
 "nbformat": 4,
 "nbformat_minor": 5
}