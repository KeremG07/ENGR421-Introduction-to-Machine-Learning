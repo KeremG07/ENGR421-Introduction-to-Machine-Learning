{
 "cells": [
  {
   "cell_type": "markdown",
   "id": "cba8b8b2",
   "metadata": {
    "pycharm": {
     "name": "#%% md\n"
    }
   },
   "source": [
    "# Homework 03: Discrimination by Regression\n",
    "## Kerem Girenes\n",
    "### March 28, 2022"
   ]
  },
  {
   "cell_type": "code",
   "execution_count": 1,
   "id": "35564e8f",
   "metadata": {
    "pycharm": {
     "name": "#%%\n"
    }
   },
   "outputs": [],
   "source": [
    "import matplotlib.pyplot as plt\n",
    "import numpy as np\n",
    "import pandas as pd\n",
    "import scipy.stats as stats\n",
    "\n",
    "def safelog(x):\n",
    "    return(np.log(x + 1e-100))"
   ]
  },
  {
   "cell_type": "markdown",
   "id": "d94026af",
   "metadata": {
    "pycharm": {
     "name": "#%% md\n"
    }
   },
   "source": [
    "## Import Data"
   ]
  },
  {
   "cell_type": "code",
   "execution_count": 2,
   "id": "473e389c",
   "metadata": {
    "pycharm": {
     "name": "#%%\n"
    }
   },
   "outputs": [
    {
     "name": "stdout",
     "output_type": "stream",
     "text": [
      "(5, 39, 320) \n",
      "\n",
      "(5, 39) \n",
      "\n"
     ]
    }
   ],
   "source": [
    "images = np.genfromtxt('hw03_data_set_images.csv',delimiter=',').reshape(5, 39, 320)\n",
    "labels = np.char.strip(np.genfromtxt('hw03_data_set_labels.csv',delimiter=',',dtype=str),'\"').reshape(5, 39).astype(int)\n",
    "\n",
    "print(images.shape,\"\\n\")\n",
    "print(labels.shape,\"\\n\")"
   ]
  },
  {
   "cell_type": "markdown",
   "id": "e65cb9c2",
   "metadata": {
    "pycharm": {
     "name": "#%% md\n"
    }
   },
   "source": [
    "## Create Training and Test Sets"
   ]
  },
  {
   "cell_type": "code",
   "execution_count": 3,
   "id": "3e02c403",
   "metadata": {
    "pycharm": {
     "name": "#%%\n"
    }
   },
   "outputs": [
    {
     "name": "stdout",
     "output_type": "stream",
     "text": [
      "(125,)\n",
      "(125, 320)\n",
      "125\n",
      "[[0. 0. 0. ... 0. 0. 0.]\n",
      " [0. 0. 0. ... 1. 1. 1.]\n",
      " [0. 0. 0. ... 1. 1. 1.]\n",
      " ...\n",
      " [0. 0. 0. ... 0. 0. 0.]\n",
      " [0. 1. 1. ... 1. 1. 0.]\n",
      " [0. 0. 0. ... 0. 0. 0.]]\n"
     ]
    }
   ],
   "source": [
    "x_train = images[:,:25,:].reshape(125, 320)  #training set images\n",
    "y_train = labels[:,:25].reshape(125,)  #training set labels\n",
    "\n",
    "x_test = images[:,25:,:].reshape(70, 320)  #test set images\n",
    "y_test = labels[:,25:].reshape(70,)  #test set labels\n",
    "\n",
    "# class size\n",
    "K = np.amax(y_train)\n",
    "\n",
    "# character size\n",
    "C = x_train.shape[1]\n",
    "\n",
    "# training set size\n",
    "N_train = y_train.shape[0]\n",
    "\n",
    "# test set size\n",
    "N_test = y_test.shape[0]\n",
    "\n",
    "print(y_train.shape)\n",
    "print(x_train.shape)\n",
    "\n",
    "print(N_train)\n",
    "\n",
    "print(x_train)"
   ]
  },
  {
   "cell_type": "markdown",
   "id": "c1ff6e26",
   "metadata": {
    "pycharm": {
     "name": "#%% md\n"
    }
   },
   "source": [
    "## One-Hot Encoding"
   ]
  },
  {
   "cell_type": "code",
   "execution_count": 4,
   "id": "7aea74ab",
   "metadata": {
    "pycharm": {
     "name": "#%%\n"
    }
   },
   "outputs": [],
   "source": [
    "# Training Set Encoding\n",
    "y_train_onehot = [[0 for k in range(K)] for n in range(N_train)]\n",
    "\n",
    "for n in range(N_train):\n",
    "    y_train_onehot[n][y_train[n]-1] = 1\n",
    "    \n",
    "y_train_onehot = np.array(y_train_onehot)\n",
    "\n",
    "# Test Set Encoding\n",
    "y_test_onehot = [[0 for k in range(K)] for n in range(N_test)]\n",
    "\n",
    "for n in range(N_test):\n",
    "    y_test_onehot[n][y_test[n]-1] = 1\n",
    "    \n",
    "y_test_onehot = np.array(y_test_onehot)"
   ]
  },
  {
   "cell_type": "markdown",
   "id": "a7c4081c",
   "metadata": {
    "pycharm": {
     "name": "#%% md\n"
    }
   },
   "source": [
    "## Learning Parameters"
   ]
  },
  {
   "cell_type": "code",
   "execution_count": 5,
   "id": "868f385a",
   "metadata": {
    "pycharm": {
     "name": "#%%\n"
    }
   },
   "outputs": [],
   "source": [
    "eta = 0.001\n",
    "epsilon = 0.001"
   ]
  },
  {
   "cell_type": "markdown",
   "id": "0103c6ce",
   "metadata": {
    "pycharm": {
     "name": "#%% md\n"
    }
   },
   "source": [
    "## Sigmoid Function"
   ]
  },
  {
   "cell_type": "code",
   "execution_count": 6,
   "id": "1e0c55a6",
   "metadata": {
    "pycharm": {
     "name": "#%%\n"
    }
   },
   "outputs": [],
   "source": [
    "# define the sigmoid function\n",
    "def sigmoid(X, w, w0):\n",
    "    return(1 / (1 + np.exp(-(np.matmul(X, w) + w0))))"
   ]
  },
  {
   "cell_type": "markdown",
   "id": "a22ab165",
   "metadata": {
    "pycharm": {
     "name": "#%% md\n"
    }
   },
   "source": [
    "## Gradient Functions"
   ]
  },
  {
   "cell_type": "code",
   "execution_count": 7,
   "id": "864aaf7a",
   "metadata": {
    "pycharm": {
     "name": "#%%\n"
    }
   },
   "outputs": [],
   "source": [
    "# define the gradient functions\n",
    "def gradient_w(x, y_truth, y_predicted):\n",
    "    return (np.asarray([-np.matmul((y_truth[:, k] - y_predicted[:, k])  * y_predicted[:, k] * (1 - y_predicted[:, k]), x) for k in range(K)]).transpose())\n",
    "\n",
    "def gradient_w0(y_truth, y_predicted):\n",
    "    return (-np.sum((y_truth - y_predicted) * y_predicted * (1 - y_predicted), axis = 0))"
   ]
  },
  {
   "cell_type": "markdown",
   "id": "056a225a",
   "metadata": {
    "pycharm": {
     "name": "#%% md\n"
    }
   },
   "source": [
    "## Parameter Initialization"
   ]
  },
  {
   "cell_type": "code",
   "execution_count": 8,
   "id": "18652075",
   "metadata": {
    "pycharm": {
     "name": "#%%\n"
    }
   },
   "outputs": [],
   "source": [
    "# randomly initalize w and w0\n",
    "np.random.seed(421)\n",
    "w = np.random.uniform(low = -0.01, high = 0.01, size = (x_train.shape[1], K))\n",
    "w0 = np.random.uniform(low = -0.01, high = 0.01, size = (1, K))"
   ]
  },
  {
   "cell_type": "markdown",
   "id": "952ce8ae",
   "metadata": {
    "pycharm": {
     "name": "#%% md\n"
    }
   },
   "source": [
    "## Iterative Algorithm"
   ]
  },
  {
   "cell_type": "code",
   "execution_count": 9,
   "id": "bd58d4a7",
   "metadata": {
    "pycharm": {
     "name": "#%%\n"
    }
   },
   "outputs": [
    {
     "name": "stdout",
     "output_type": "stream",
     "text": [
      "[[-0.007313   -0.04365135 -0.02283699  0.11954214 -0.02471816]\n",
      " [-0.0772168   0.00808906 -0.11410913  0.19204372  0.02484684]\n",
      " [-0.08098001  0.06492251 -0.12291065  0.15759649  0.03581208]\n",
      " ...\n",
      " [ 0.04350351  0.12033443  0.03493316 -0.14106721 -0.11477042]\n",
      " [ 0.05483368 -0.15529821  0.04138291 -0.18311856 -0.01104428]\n",
      " [ 0.07461121 -0.23759405  0.09797277 -0.15343788 -0.01975529]]\n",
      "[[-0.04886843 -0.17238056 -0.01419691 -0.03881936 -0.16691034]]\n",
      "1054\n",
      "[77.32911385 53.43736072 48.21974348 ...  0.96997126  0.9689756\n",
      "  0.96798189]\n"
     ]
    }
   ],
   "source": [
    "# learn W and w0 using gradient descent\n",
    "iteration = 1\n",
    "objective_values = []\n",
    "while True:\n",
    "    y_predicted = sigmoid(x_train, w, w0)\n",
    "    \n",
    "    objective_values = np.append(objective_values, 0.5 * np.sum((y_train_onehot - y_predicted) ** 2))\n",
    "    w_old = w\n",
    "    w0_old = w0\n",
    "\n",
    "    w = w - eta * gradient_w(x_train, y_train_onehot, y_predicted)\n",
    "    w0 = w0 - eta * gradient_w0(y_train_onehot, y_predicted)\n",
    "\n",
    "    if np.sqrt(np.sum((w0 - w0_old)) ** 2 + np.sum((w - w_old) ** 2)) < epsilon:\n",
    "        break\n",
    "\n",
    "    iteration = iteration + 1\n",
    "    \n",
    "print(w)\n",
    "print(w0)\n",
    "\n",
    "print(iteration)\n",
    "print(objective_values)"
   ]
  },
  {
   "cell_type": "markdown",
   "id": "3bfa0504",
   "metadata": {
    "pycharm": {
     "name": "#%% md\n"
    }
   },
   "source": [
    "## Plotting Convergence"
   ]
  },
  {
   "cell_type": "code",
   "execution_count": 10,
   "id": "8df80a99",
   "metadata": {
    "pycharm": {
     "name": "#%%\n"
    }
   },
   "outputs": [
    {
     "data": {
      "image/png": "[encoded data removed]",
      "text/plain": [
       "<Figure size 576x288 with 1 Axes>"
      ]
     },
     "metadata": {
      "needs_background": "light"
     },
     "output_type": "display_data"
    }
   ],
   "source": [
    "# plot objective function during iterations\n",
    "plt.figure(figsize = (8, 4))\n",
    "plt.plot(range(1, iteration + 1), objective_values, \"k-\")\n",
    "plt.xlabel(\"Iteration\")\n",
    "plt.ylabel(\"Error\")\n",
    "plt.show()"
   ]
  },
  {
   "cell_type": "markdown",
   "id": "ea63ae22",
   "metadata": {
    "pycharm": {
     "name": "#%% md\n"
    }
   },
   "source": [
    "## Training Set Confusion Matrix"
   ]
  },
  {
   "cell_type": "code",
   "execution_count": 11,
   "id": "d828988b",
   "metadata": {
    "pycharm": {
     "name": "#%%\n"
    }
   },
   "outputs": [
    {
     "name": "stdout",
     "output_type": "stream",
     "text": [
      "y_train   1   2   3   4   5\n",
      "y_pred                     \n",
      "1        25   0   0   0   0\n",
      "2         0  25   0   0   0\n",
      "3         0   0  25   0   0\n",
      "4         0   0   0  25   0\n",
      "5         0   0   0   0  25\n"
     ]
    }
   ],
   "source": [
    "y_predicted_max = np.argmax(y_predicted, axis = 1) + 1\n",
    "\n",
    "confusion_matrix = pd.crosstab(y_predicted_max, np.sum(y_train_onehot * np.array([1,2,3,4,5]), axis=1), rownames = ['y_pred'], colnames = ['y_train'])\n",
    "\n",
    "print(confusion_matrix)"
   ]
  },
  {
   "cell_type": "markdown",
   "id": "6e547a7c",
   "metadata": {
    "pycharm": {
     "name": "#%% md\n"
    }
   },
   "source": [
    "## Test Set Confusion Matrix"
   ]
  },
  {
   "cell_type": "code",
   "execution_count": 12,
   "id": "cfd5765e",
   "metadata": {
    "pycharm": {
     "name": "#%%\n"
    }
   },
   "outputs": [
    {
     "name": "stdout",
     "output_type": "stream",
     "text": [
      "y_test   1   2   3   4   5\n",
      "y_pred                    \n",
      "1       13   1   0   0   0\n",
      "2        1  11   0   0   1\n",
      "3        0   0  14   0   0\n",
      "4        0   0   0  14   0\n",
      "5        0   2   0   0  13\n"
     ]
    }
   ],
   "source": [
    "y_predicted_test = sigmoid(x_test, w, w0)\n",
    "\n",
    "y_predicted_test_max = np.argmax(y_predicted_test, axis = 1) + 1\n",
    "\n",
    "confusion_matrix = pd.crosstab(y_predicted_test_max, np.sum(y_test_onehot * np.array([1,2,3,4,5]), axis=1), rownames = ['y_pred'], colnames = ['y_test'])\n",
    "print(confusion_matrix)"
   ]
  }
 ],
 "metadata": {
  "kernelspec": {
   "display_name": "Python 3 (ipykernel)",
   "language": "python",
   "name": "python3"
  },
  "language_info": {
   "codemirror_mode": {
    "name": "ipython",
    "version": 3
   },
   "file_extension": ".py",
   "mimetype": "text/x-python",
   "name": "python",
   "nbconvert_exporter": "python",
   "pygments_lexer": "ipython3",
   "version": "3.10.2"
  }
 },
 "nbformat": 4,
 "nbformat_minor": 5
}