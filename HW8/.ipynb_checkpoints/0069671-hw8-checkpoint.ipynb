{
 "cells": [
  {
   "cell_type": "markdown",
   "metadata": {
    "pycharm": {
     "name": "#%% md\n"
    }
   },
   "source": [
    "# Homework 08: Expectation-Maximization Clustering\n",
    "## Kerem Girenes\n",
    "### May 20, 2022"
   ]
  },
  {
   "cell_type": "code",
   "execution_count": 1,
   "metadata": {
    "pycharm": {
     "name": "#%%\n"
    }
   },
   "outputs": [],
   "source": [
    "import matplotlib.pyplot as plt\n",
    "import numpy as np\n",
    "import scipy.spatial as spa\n",
    "from scipy.stats import multivariate_normal as mv_normal"
   ]
  },
  {
   "cell_type": "markdown",
   "metadata": {
    "pycharm": {
     "name": "#%% md\n"
    }
   },
   "source": [
    "## Importing Data"
   ]
  },
  {
   "cell_type": "code",
   "execution_count": 2,
   "metadata": {
    "pycharm": {
     "name": "#%%\n"
    }
   },
   "outputs": [
    {
     "data": {
      "image/png": "[encoded data removed]",
      "text/plain": [
       "<Figure size 576x576 with 1 Axes>"
      ]
     },
     "metadata": {
      "needs_background": "light"
     },
     "output_type": "display_data"
    },
    {
     "name": "stdout",
     "output_type": "stream",
     "text": [
      "9 [100. 100. 100. 100. 100. 100. 100. 100. 200.] 1000\n"
     ]
    }
   ],
   "source": [
    "points = np.genfromtxt(\"hw08_data_set.csv\", delimiter=\",\")\n",
    "x1 = points[:, 0]\n",
    "x2 = points[:, 1]\n",
    "\n",
    "## Plotting Data Points\n",
    "plt.figure(figsize=(8, 8))\n",
    "plt.plot(x1, x2, \"k.\", markersize=12)\n",
    "plt.xlim([-8, 8])\n",
    "plt.ylim([-8, 8])\n",
    "plt.xlabel(\"$x_1$\")\n",
    "plt.ylabel(\"$x_2$\")\n",
    "plt.show()\n",
    "\n",
    "## Nine Distinct Classes\n",
    "K = 9\n",
    "\n",
    "## Each with size 100\n",
    "N_class = np.zeros(K)\n",
    "N_class[:] = 100\n",
    "\n",
    "## Except class 9 (which has 200)\n",
    "N_class[8] = 200\n",
    "\n",
    "## For a total of 1000 points\n",
    "N = points.shape[0]\n",
    "\n",
    "print(K, N_class, N)"
   ]
  },
  {
   "cell_type": "markdown",
   "metadata": {
    "pycharm": {
     "name": "#%% md\n"
    }
   },
   "source": [
    "## Class Means and Class Covariances"
   ]
  },
  {
   "cell_type": "code",
   "execution_count": 3,
   "metadata": {
    "pycharm": {
     "name": "#%%\n"
    }
   },
   "outputs": [
    {
     "name": "stdout",
     "output_type": "stream",
     "text": [
      "[[ 5.  5.]\n",
      " [-5.  5.]\n",
      " [-5. -5.]\n",
      " [ 5. -5.]\n",
      " [ 5.  0.]\n",
      " [ 0.  5.]\n",
      " [-5.  0.]\n",
      " [ 0. -5.]\n",
      " [ 0.  0.]]\n",
      "[[[ 0.8 -0.6]\n",
      "  [-0.6  0.8]]\n",
      "\n",
      " [[ 0.8  0.6]\n",
      "  [ 0.6  0.8]]\n",
      "\n",
      " [[ 0.8 -0.6]\n",
      "  [-0.6  0.8]]\n",
      "\n",
      " [[ 0.8  0.6]\n",
      "  [ 0.6  0.8]]\n",
      "\n",
      " [[ 0.2  0. ]\n",
      "  [ 0.   1.2]]\n",
      "\n",
      " [[ 1.2  0. ]\n",
      "  [ 0.   0.2]]\n",
      "\n",
      " [[ 0.2  0. ]\n",
      "  [ 0.   1.2]]\n",
      "\n",
      " [[ 1.2  0. ]\n",
      "  [ 0.   0.2]]\n",
      "\n",
      " [[ 1.6  0. ]\n",
      "  [ 0.   1.6]]]\n"
     ]
    }
   ],
   "source": [
    "class_means = np.zeros((K,2))\n",
    "class_cov = np.zeros((K, 2, 2))\n",
    "\n",
    "class_means[0] = [+5.0, +5.0]\n",
    "class_means[1] = [-5.0, +5.0]\n",
    "class_means[2] = [-5.0, -5.0]\n",
    "class_means[3] = [+5.0, -5.0]\n",
    "class_means[4] = [+5.0, +0.0]\n",
    "class_means[5] = [+0.0, +5.0]\n",
    "class_means[6] = [-5.0, +0.0]\n",
    "class_means[7] = [+0.0, -5.0]\n",
    "class_means[8] = [+0.0, +0.0]\n",
    "\n",
    "class_cov[0] = [[+0.8, -0.6], [-0.6, +0.8]]\n",
    "class_cov[1] = [[+0.8, +0.6], [+0.6, +0.8]]\n",
    "class_cov[2] = [[+0.8, -0.6], [-0.6, +0.8]]\n",
    "class_cov[3] = [[+0.8, +0.6], [+0.6, +0.8]]\n",
    "class_cov[4] = [[+0.2, +0.0], [+0.0, +1.2]]\n",
    "class_cov[5] = [[+1.2, +0.0], [+0.0, +0.2]]\n",
    "class_cov[6] = [[+0.2, +0.0], [+0.0, +1.2]]\n",
    "class_cov[7] = [[+1.2, +0.0], [+0.0, +0.2]]\n",
    "class_cov[8] = [[+1.6, +0.0], [+0.0, +1.6]]\n",
    "\n",
    "print(class_means)\n",
    "print(class_cov)"
   ]
  },
  {
   "cell_type": "markdown",
   "metadata": {
    "pycharm": {
     "name": "#%% md\n"
    }
   },
   "source": [
    "## Update Membership Helper"
   ]
  },
  {
   "cell_type": "code",
   "execution_count": 4,
   "metadata": {
    "pycharm": {
     "name": "#%%\n"
    }
   },
   "outputs": [],
   "source": [
    "def update_memberships(centroids, X):\n",
    "    # calculate distances between centroids and data points\n",
    "    D = spa.distance_matrix(centroids, X)\n",
    "    # find the nearest centroid for each data point\n",
    "    memberships = np.argmin(D, axis = 0)\n",
    "    return memberships"
   ]
  },
  {
   "cell_type": "markdown",
   "metadata": {
    "pycharm": {
     "name": "#%% md\n"
    }
   },
   "source": [
    "## Initialize EM Algorithm"
   ]
  },
  {
   "cell_type": "code",
   "execution_count": 5,
   "metadata": {
    "pycharm": {
     "name": "#%%\n"
    }
   },
   "outputs": [
    {
     "name": "stdout",
     "output_type": "stream",
     "text": [
      "Estimated Initial Class Covariances:\n",
      " [[[ 8.43817628  6.14209783]\n",
      "  [ 6.14209783  5.4965149 ]]\n",
      "\n",
      " [[ 3.07126503 -0.02169121]\n",
      "  [-0.02169121  1.16496993]]\n",
      "\n",
      " [[ 7.66513043 -3.30421096]\n",
      "  [-3.30421096  1.87061185]]\n",
      "\n",
      " [[ 2.6893696  -0.79297103]\n",
      "  [-0.79297103  4.40527123]]\n",
      "\n",
      " [[ 0.60942601 -0.1071184 ]\n",
      "  [-0.1071184   1.0506901 ]]\n",
      "\n",
      " [[ 6.36185294 -1.39518868]\n",
      "  [-1.39518868  1.8532208 ]]\n",
      "\n",
      " [[ 3.60946634 -3.53784635]\n",
      "  [-3.53784635  8.78361705]]\n",
      "\n",
      " [[ 2.90313131  1.16592358]\n",
      "  [ 1.16592358  1.16102739]]\n",
      "\n",
      " [[ 1.53605069 -0.02001096]\n",
      "  [-0.02001096  3.7288816 ]]]\n",
      "\n",
      "Estimated Prior Probabilities:\n",
      " [0.1   0.117 0.067 0.116 0.11  0.167 0.132 0.051 0.14 ]\n"
     ]
    }
   ],
   "source": [
    "centroids = np.genfromtxt(\"hw08_initial_centroids.csv\", delimiter=\",\")\n",
    "est_memberships = update_memberships(centroids, points)\n",
    "\n",
    "## Phi Parameters\n",
    "est_probability = np.array(np.bincount(est_memberships)) / N\n",
    "est_class_size = np.array(np.bincount(est_memberships))\n",
    "est_class_cov = np.array([\n",
    "    np.transpose(np.mat(points[est_memberships == k] - centroids[k])) * np.mat(points[est_memberships == k] - centroids[k]) / est_class_size[k] for k in range(K)])\n",
    "\n",
    "print(\"Estimated Initial Class Covariances:\\n\", est_class_cov)\n",
    "print(\"\\nEstimated Prior Probabilities:\\n\", est_probability)"
   ]
  },
  {
   "cell_type": "markdown",
   "metadata": {
    "pycharm": {
     "name": "#%% md\n"
    }
   },
   "source": [
    "## E-Step and M-Step Algorithms"
   ]
  },
  {
   "cell_type": "code",
   "execution_count": 6,
   "metadata": {
    "pycharm": {
     "name": "#%%\n"
    }
   },
   "outputs": [],
   "source": [
    "def e_step(centroids, est_class_cov, est_probability, points):\n",
    "    ## Use Multivariate Gaussian Normal function (mv_normal)\n",
    "    membership_probabilities = np.zeros((N, K))\n",
    "    for k in range(K):\n",
    "        for n in range(N):\n",
    "            denom = np.sum([mv_normal.pdf(points[n], centroids[c], est_class_cov[c]) * est_probability[c] for c in range(K)], axis=0)\n",
    "            nom = mv_normal.pdf(points[n], centroids[k], est_class_cov[k]) * est_probability[k]\n",
    "            membership_probabilities[n, k] = nom/denom\n",
    "    return membership_probabilities\n",
    "\n",
    "def m_step(points, mp):\n",
    "    centroids = np.zeros((K, 2))\n",
    "    est_class_cov = np.zeros((K, 2, 2))\n",
    "    est_probability = np.zeros(K)\n",
    "\n",
    "    for k in range(K):\n",
    "        ## Centroids\n",
    "        centroids[k] = np.sum([(points[n] * mp[n, k]) for n in range(N)], axis=0) / np.sum(mp[:, k])\n",
    "        ## Class Covariances\n",
    "        est_class_cov[k] = np.sum([np.multiply(np.matmul(np.transpose(np.asmatrix(points[n] - centroids[k])), np.asmatrix(points[n] - centroids[k])), mp[n, k]) for n in range(N)], axis = 0) / np.sum(mp[:, k])\n",
    "        ## Probabilities\n",
    "        est_probability[k] = np.sum(mp[:, k], axis=0) / N\n",
    "\n",
    "    return centroids, est_class_cov, est_probability"
   ]
  },
  {
   "cell_type": "markdown",
   "metadata": {
    "pycharm": {
     "name": "#%% md\n"
    }
   },
   "source": [
    "## 100 Iterations"
   ]
  },
  {
   "cell_type": "code",
   "execution_count": null,
   "metadata": {
    "pycharm": {
     "name": "#%%\n"
    }
   },
   "outputs": [],
   "source": [
    "for itn in range(1, 101):\n",
    "    ## Expectation\n",
    "    membership_probs = e_step(centroids, est_class_cov, est_probability, points)\n",
    "\n",
    "    ## Maximization\n",
    "    centroids, est_class_cov, est_probability = m_step(points, membership_probs)\n",
    "\n",
    "print(\"Mean Vectors after 100 iterations:\\n\", centroids)"
   ]
  },
  {
   "cell_type": "markdown",
   "metadata": {
    "pycharm": {
     "name": "#%% md\n"
    }
   },
   "source": [
    "## Plot Helper"
   ]
  },
  {
   "cell_type": "code",
   "execution_count": null,
   "metadata": {
    "pycharm": {
     "name": "#%%\n"
    }
   },
   "outputs": [],
   "source": [
    "def plot_current_state(centroids, memberships, X, class_covariances, initial_class_means, initial_covariances):\n",
    "    cluster_colors = np.array([\"#1f78b4\", \"#33a02c\", \"#e31a1c\", \"#ff7f00\", \"#6a3d9a\", \"#b15928\",\n",
    "                               \"#a6cee3\", \"#b2df8a\", \"#fb9a99\", \"#fdbf6f\", \"#cab2d6\", \"#ffff99\"])\n",
    "    if memberships is None:\n",
    "        plt.plot(X[:,0], X[:,1], \".\", markersize = 10, color = \"black\")\n",
    "    else:\n",
    "        for c in range(K):\n",
    "            plt.plot(X[memberships == c, 0], X[memberships == c, 1], \".\", markersize = 10,\n",
    "                     color = cluster_colors[c])\n",
    "    for c in range(K):\n",
    "        plt.plot(centroids[c, 0], centroids[c, 1], \"s\", markersize = 12,\n",
    "                 markerfacecolor = cluster_colors[c], markeredgecolor = \"black\")\n",
    "    plt.xlabel(\"x1\")\n",
    "    plt.ylabel(\"x2\")\n",
    "\n",
    "    x1_grid, x2_grid = np.meshgrid(np.linspace(-8, +8, 1601), np.linspace(-8, +8, 1601))\n",
    "    intervals = np.dstack((x1_grid, x2_grid))\n",
    "\n",
    "    for k in range(K):\n",
    "        em_points = mv_normal(centroids[k], class_covariances[k]).pdf(intervals)\n",
    "        plt.contour(x1_grid, x2_grid, em_points, colors=cluster_colors[k], levels=[0.05])\n",
    "        given_points = mv_normal(initial_class_means[k], initial_covariances[k]).pdf(intervals)\n",
    "        plt.contour(x1_grid, x2_grid, given_points, linestyles='dashed', levels=[0.05], colors='k')\n"
   ]
  },
  {
   "cell_type": "markdown",
   "metadata": {
    "pycharm": {
     "name": "#%% md\n"
    }
   },
   "source": [
    "## Plotting Results"
   ]
  },
  {
   "cell_type": "code",
   "execution_count": null,
   "metadata": {
    "pycharm": {
     "name": "#%%\n"
    }
   },
   "outputs": [],
   "source": [
    "est_memberships = np.argmax(membership_probs, axis=1)\n",
    "\n",
    "plt.figure(figsize=(10, 10))\n",
    "plot_current_state(centroids, est_memberships, points, est_class_cov, class_means, class_cov)\n",
    "plt.show()"
   ]
  }
 ],
 "metadata": {
  "kernelspec": {
   "display_name": "Python 3 (ipykernel)",
   "language": "python",
   "name": "python3"
  },
  "language_info": {
   "codemirror_mode": {
    "name": "ipython",
    "version": 3
   },
   "file_extension": ".py",
   "mimetype": "text/x-python",
   "name": "python",
   "nbconvert_exporter": "python",
   "pygments_lexer": "ipython3",
   "version": "3.10.2"
  }
 },
 "nbformat": 4,
 "nbformat_minor": 1
}
