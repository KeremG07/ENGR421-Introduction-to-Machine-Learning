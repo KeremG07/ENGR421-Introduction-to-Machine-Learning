{
 "cells": [
  {
   "cell_type": "markdown",
   "id": "c0c62fff",
   "metadata": {
    "pycharm": {
     "name": "#%% md\n"
    }
   },
   "source": [
    "# Homework 01: Multivariate Parametric Classification\n",
    "## Kerem Girenes, 0069671\n",
    "## March 13, 2022"
   ]
  },
  {
   "cell_type": "code",
   "execution_count": 1,
   "id": "ff253fd2",
   "metadata": {
    "pycharm": {
     "name": "#%%\n"
    }
   },
   "outputs": [],
   "source": [
    "import matplotlib.pyplot as plt\n",
    "import numpy as np\n",
    "import pandas as pd\n",
    "import scipy.stats as stats\n",
    "\n",
    "def safelog(x):\n",
    "    return(np.log(x + 1e-100))"
   ]
  },
  {
   "cell_type": "markdown",
   "id": "5ef0fe37",
   "metadata": {
    "pycharm": {
     "name": "#%% md\n"
    }
   },
   "source": [
    "## Parameters"
   ]
  },
  {
   "cell_type": "code",
   "execution_count": 2,
   "id": "029c49c6",
   "metadata": {
    "pycharm": {
     "name": "#%%\n"
    }
   },
   "outputs": [],
   "source": [
    "np.random.seed(421)\n",
    "# mean parameters\n",
    "class_means = np.array([[+0.0, +4.5],\n",
    "                        [-4.5, -1.0],\n",
    "                        [+4.5, -1.0],\n",
    "                        [+0.0, -4.0]])\n",
    "# covariance parameters\n",
    "class_covariances = np.array([[[+3.2, +0.0], \n",
    "                               [+0.0, +1.2]],\n",
    "                              \n",
    "                              [[+1.2, +0.8], \n",
    "                               [+0.8, +1.2]],\n",
    "                              \n",
    "                              [[+1.2, -0.8], \n",
    "                               [-0.8, +1.2]],\n",
    "                              \n",
    "                              [[+1.2, +0.0], \n",
    "                               [+0.0, +3.2]]])\n",
    "# sample sizes\n",
    "class_sizes = np.array([105, 145, 135, 115])"
   ]
  },
  {
   "cell_type": "markdown",
   "id": "fb47f3e6",
   "metadata": {
    "pycharm": {
     "name": "#%% md\n"
    }
   },
   "source": [
    "## Data Generation"
   ]
  },
  {
   "cell_type": "code",
   "execution_count": 3,
   "id": "e9657e3b",
   "metadata": {
    "pycharm": {
     "name": "#%%\n"
    }
   },
   "outputs": [],
   "source": [
    "# generate random samples\n",
    "points1 = np.random.multivariate_normal(mean = class_means[0,:],\n",
    "                                        cov = class_covariances[0,:,:],\n",
    "                                        size = class_sizes[0])\n",
    "points2 = np.random.multivariate_normal(mean = class_means[1,:],\n",
    "                                        cov = class_covariances[1,:,:],\n",
    "                                        size = class_sizes[1])\n",
    "points3 = np.random.multivariate_normal(mean = class_means[2,:],\n",
    "                                        cov = class_covariances[2,:,:],\n",
    "                                        size = class_sizes[2])\n",
    "points4 = np.random.multivariate_normal(mean = class_means[3,:],\n",
    "                                        cov = class_covariances[3,:,:],\n",
    "                                        size = class_sizes[3])\n",
    "X = np.vstack((points1, points2, points3, points4))\n",
    "\n",
    "# generate corresponding labels\n",
    "y = np.concatenate((np.repeat(1, class_sizes[0]),\n",
    "                    np.repeat(2, class_sizes[1]),\n",
    "                    np.repeat(3, class_sizes[2]),\n",
    "                    np.repeat(4, class_sizes[3])))"
   ]
  },
  {
   "cell_type": "markdown",
   "id": "49361d2f",
   "metadata": {
    "pycharm": {
     "name": "#%% md\n"
    }
   },
   "source": [
    "## Exporting Data"
   ]
  },
  {
   "cell_type": "code",
   "execution_count": 4,
   "id": "c3ff4db1",
   "metadata": {
    "pycharm": {
     "name": "#%%\n"
    }
   },
   "outputs": [],
   "source": [
    "# write data to a file\n",
    "np.savetxt(\"hw01_data_set.csv\", np.hstack((X, y[:, None])), fmt = \"%f,%f,%d\")"
   ]
  },
  {
   "cell_type": "markdown",
   "id": "aa888a2b",
   "metadata": {
    "pycharm": {
     "name": "#%% md\n"
    }
   },
   "source": [
    "## Plotting Data"
   ]
  },
  {
   "cell_type": "code",
   "execution_count": 5,
   "id": "1f991c69",
   "metadata": {
    "pycharm": {
     "name": "#%%\n"
    }
   },
   "outputs": [
    {
     "data": {
      "image/png": "[encoded data removed]",
      "text/plain": [
       "<Figure size 576x576 with 1 Axes>"
      ]
     },
     "metadata": {
      "needs_background": "light"
     },
     "output_type": "display_data"
    }
   ],
   "source": [
    "x1_interval = np.linspace(-8, +8, 1001)\n",
    "x2_interval = np.linspace(-8, +8, 1001)\n",
    "x1_grid, x2_grid = np.meshgrid(x1_interval, x2_interval)\n",
    "X_grid = np.vstack((x1_grid.flatten(), x2_grid.flatten())).T\n",
    "\n",
    "D1 = stats.multivariate_normal.pdf(X_grid, mean = class_means[0,:],\n",
    "                                   cov = class_covariances[0,:,:])\n",
    "D1 = D1.reshape((len(x1_interval), len(x2_interval)))\n",
    "D2 = stats.multivariate_normal.pdf(X_grid, mean = class_means[1,:],\n",
    "                                   cov = class_covariances[1,:,:])\n",
    "D2 = D2.reshape((len(x1_interval), len(x2_interval)))\n",
    "D3 = stats.multivariate_normal.pdf(X_grid, mean = class_means[2,:],\n",
    "                                   cov = class_covariances[2,:,:])\n",
    "D3 = D3.reshape((len(x1_interval), len(x2_interval)))\n",
    "D4 = stats.multivariate_normal.pdf(X_grid, mean = class_means[3,:],\n",
    "                                   cov = class_covariances[3,:,:])\n",
    "D4 = D4.reshape((len(x1_interval), len(x2_interval)))\n",
    "\n",
    "# plot data points generated\n",
    "plt.figure(figsize = (8, 8))\n",
    "plt.plot(points1[:,0], points1[:,1], \"r.\", markersize = 10)\n",
    "plt.plot(points2[:,0], points2[:,1], \"g.\", markersize = 10)\n",
    "plt.plot(points3[:,0], points3[:,1], \"b.\", markersize = 10)\n",
    "plt.plot(points4[:,0], points4[:,1], \"m.\", markersize = 10)\n",
    "\n",
    "plt.xlim((-8, +8))\n",
    "plt.ylim((-8, +8))\n",
    "plt.xlabel(\"$x_1$\")\n",
    "plt.ylabel(\"$x_2$\")\n",
    "plt.show()"
   ]
  },
  {
   "cell_type": "markdown",
   "id": "1c417a8d",
   "metadata": {
    "pycharm": {
     "name": "#%% md\n"
    }
   },
   "source": [
    "## Importing Data"
   ]
  },
  {
   "cell_type": "code",
   "execution_count": 6,
   "id": "61c12b8c",
   "metadata": {
    "pycharm": {
     "name": "#%%\n"
    }
   },
   "outputs": [],
   "source": [
    "# read data into memory\n",
    "data_set = np.genfromtxt(\"hw01_data_set.csv\", delimiter = \",\")\n",
    "\n",
    "# get x and y_truth values\n",
    "X = data_set[:,[0, 1]]\n",
    "y_truth = data_set[:,2].astype(int)\n",
    "\n",
    "# get number of classes and number of samples\n",
    "K = np.max(y)\n",
    "N = data_set.shape[0]"
   ]
  },
  {
   "cell_type": "markdown",
   "id": "a3472689",
   "metadata": {
    "pycharm": {
     "name": "#%% md\n"
    }
   },
   "source": [
    "## Estimation of Parameters"
   ]
  },
  {
   "cell_type": "code",
   "execution_count": 7,
   "id": "96eba968",
   "metadata": {
    "pycharm": {
     "name": "#%%\n"
    }
   },
   "outputs": [
    {
     "name": "stdout",
     "output_type": "stream",
     "text": [
      "Sample Means:\n",
      "\n",
      "[[ 0.14550242  4.55638821]\n",
      " [-4.45510875 -0.92632899]\n",
      " [ 4.48187484 -1.02664886]\n",
      " [-0.15761942 -3.93467956]]\n",
      "\n",
      "Sample Covariances:\n",
      "\n",
      "[[[ 2.88774467  0.26160804]\n",
      "  [ 0.26160804  1.02301075]]\n",
      "\n",
      " [[ 1.43606841  1.01209997]\n",
      "  [ 1.01209997  1.36898642]]\n",
      "\n",
      " [[ 1.2777115  -0.95351749]\n",
      "  [-0.95351749  1.29984191]]\n",
      "\n",
      " [[ 1.32615908  0.27672137]\n",
      "  [ 0.27672137  2.80556549]]] \n",
      "\n",
      "Class Priors:\n",
      " [0.21 0.29 0.27 0.23]\n"
     ]
    }
   ],
   "source": [
    "# sample means\n",
    "sample_means = np.array([np.mean(X[y_truth == (c+1)], axis=0) for c in range(K)])\n",
    "\n",
    "print(\"Sample Means:\\n\")\n",
    "print(sample_means)\n",
    "\n",
    "    \n",
    "# sample covariances\n",
    "sample_covariances = np.array([np.matmul((X[y_truth == (c + 1)] - sample_means[c]).T,\n",
    "                                 X[y_truth == (c + 1)] - sample_means[c])\n",
    "                      /class_sizes[c]\n",
    "                      for c in range(K)])\n",
    "\n",
    "print(\"\\nSample Covariances:\\n\")\n",
    "print(sample_covariances,\"\\n\")\n",
    "    \n",
    "    \n",
    "# class priors\n",
    "class_priors = np.array([np.mean(y_truth == (c + 1)) for c in range(K)])\n",
    "\n",
    "print(\"Class Priors:\\n\", class_priors)"
   ]
  },
  {
   "cell_type": "markdown",
   "id": "78901140",
   "metadata": {
    "pycharm": {
     "name": "#%% md\n"
    }
   },
   "source": [
    "## Parameter Classification"
   ]
  },
  {
   "cell_type": "code",
   "execution_count": 8,
   "id": "2558290b",
   "metadata": {
    "pycharm": {
     "name": "#%%\n"
    }
   },
   "outputs": [],
   "source": [
    "D = 2\n",
    "W = np.array([- 0.5 * np.linalg.inv(sample_covariances[c]) for c in range(K)])\n",
    "w = np.array([np.dot(np.linalg.inv(sample_covariances[c]), sample_means[c]) for c in range(K)])\n",
    "w0 = np.array([- 0.5 * np.dot(sample_means[c].T, np.dot(np.linalg.inv(sample_covariances[c]), sample_means[c]))\n",
    "      - (D/2) * safelog(2 * np.pi)\n",
    "      - 0.5 * safelog(np.linalg.det(sample_covariances[c]))\n",
    "      + safelog(class_priors[c]) for c in range(K)])"
   ]
  },
  {
   "cell_type": "markdown",
   "id": "7ff40bad",
   "metadata": {
    "pycharm": {
     "name": "#%% md\n"
    }
   },
   "source": [
    "## Score Function"
   ]
  },
  {
   "cell_type": "code",
   "execution_count": 9,
   "id": "c25dafb5",
   "metadata": {
    "pycharm": {
     "name": "#%%\n"
    }
   },
   "outputs": [],
   "source": [
    "# define the score function\n",
    "def g(c, x):\n",
    "    return np.dot(np.dot(X[x].T, W[c]), X[x]) + np.dot(w[c].T, X[x]) + w0[c]"
   ]
  },
  {
   "cell_type": "markdown",
   "id": "6b1430e6",
   "metadata": {
    "pycharm": {
     "name": "#%% md\n"
    }
   },
   "source": [
    "## Predicted Values"
   ]
  },
  {
   "cell_type": "code",
   "execution_count": 10,
   "id": "b4b9a803",
   "metadata": {
    "pycharm": {
     "name": "#%%\n"
    }
   },
   "outputs": [],
   "source": [
    "y_predicted = []\n",
    "for x in range(len(X)):\n",
    "    max_index = np.argmax([g(c, x) for c in range(K)])\n",
    "    y_predicted = np.append(y_predicted, max_index)"
   ]
  },
  {
   "cell_type": "markdown",
   "id": "148c9d33",
   "metadata": {
    "pycharm": {
     "name": "#%% md\n"
    }
   },
   "source": [
    "## Confusion Matrix"
   ]
  },
  {
   "cell_type": "code",
   "execution_count": 11,
   "id": "953df0c3",
   "metadata": {
    "pycharm": {
     "name": "#%%\n"
    }
   },
   "outputs": [
    {
     "name": "stdout",
     "output_type": "stream",
     "text": [
      "y_truth    1    2    3    4\n",
      "y_pred                     \n",
      "0.0      105    0    0    0\n",
      "1.0        0  145    0    0\n",
      "2.0        0    0  133    1\n",
      "3.0        0    0    2  114\n"
     ]
    }
   ],
   "source": [
    "confusion_matrix = pd.crosstab(y_predicted, y_truth, \n",
    "                               rownames = [\"y_pred\"], \n",
    "                               colnames = [\"y_truth\"])\n",
    "print(confusion_matrix)"
   ]
  },
  {
   "cell_type": "markdown",
   "id": "545e32d8",
   "metadata": {
    "pycharm": {
     "name": "#%% md\n"
    }
   },
   "source": [
    "## Decision Boundaries"
   ]
  },
  {
   "cell_type": "code",
   "execution_count": 12,
   "id": "0f469db4",
   "metadata": {
    "pycharm": {
     "name": "#%%\n"
    }
   },
   "outputs": [],
   "source": [
    "import warnings\n",
    "warnings.simplefilter('ignore', UserWarning)\n",
    "\n",
    "x1_interval = np.linspace(-8, +8, 2001)\n",
    "x2_interval = np.linspace(-8, +8, 2001)\n",
    "x1_grid, x2_grid = np.meshgrid(x1_interval, x2_interval)\n",
    "\n",
    "discriminants = np.zeros((2001, 2001, 4))\n",
    "\n",
    "discriminants[:,:,0] = W[0][0][0] * x1_grid**2 + W[0][0][1] * x1_grid * x2_grid + W[0][1][0] * x1_grid * x2_grid + W[0][1][1] * x2_grid**2 + w[0][0] * x1_grid + w[0][1] * x2_grid + w0[0]\n",
    "discriminants[:,:,1] = W[1][0][0] * x1_grid**2 + W[1][0][1] * x1_grid * x2_grid + W[1][1][0] * x1_grid * x2_grid + W[1][1][1] * x2_grid**2 + w[1][0] * x1_grid + w[1][1] * x2_grid + w0[1]\n",
    "discriminants[:,:,2] = W[2][0][0] * x1_grid**2 + W[2][0][1] * x1_grid * x2_grid + W[2][1][0] * x1_grid * x2_grid + W[2][1][1] * x2_grid**2 + w[2][0] * x1_grid + w[2][1] * x2_grid + w0[2]\n",
    "discriminants[:,:,3] = W[3][0][0] * x1_grid**2 + W[3][0][1] * x1_grid * x2_grid + W[3][1][0] * x1_grid * x2_grid + W[3][1][1] * x2_grid**2 + w[3][0] * x1_grid + w[3][1] * x2_grid + w0[3]\n",
    "  \n",
    "for c in range(K):\n",
    "    for i in range(K):\n",
    "        for j in range(i+1,K):\n",
    "            if c != i and c != j:  \n",
    "                discriminants[:,:,c][(discriminants[:,:,c] < discriminants[:,:,i]) & (discriminants[:,:,c] < discriminants[:,:,j])] = np.nan"
   ]
  },
  {
   "cell_type": "code",
   "execution_count": 20,
   "id": "d9b8aded",
   "metadata": {
    "pycharm": {
     "name": "#%%\n"
    }
   },
   "outputs": [
    {
     "data": {
      "image/png": "[encoded data removed]",
      "text/plain": [
       "<Figure size 720x720 with 1 Axes>"
      ]
     },
     "metadata": {
      "needs_background": "light"
     },
     "output_type": "display_data"
    }
   ],
   "source": [
    "plt.figure(figsize = (10, 10))\n",
    "plt.plot(X[y == 1, 0], X[y == 1, 1], \"r.\", markersize = 10)\n",
    "plt.plot(X[y == 2, 0], X[y == 2, 1], \"g.\", markersize = 10)\n",
    "plt.plot(X[y == 3, 0], X[y == 3, 1], \"b.\", markersize = 10)\n",
    "plt.plot(X[y == 4, 0], X[y == 4, 1], \"m.\", markersize = 10)\n",
    "\n",
    "for x in range(len(X)):\n",
    "    if(y_predicted[x]+1 != y_truth[x]):\n",
    "        plt.plot(X[x][0], X[x][1], \"ko\", markersize = 15, fillstyle = \"none\")\n",
    "        \n",
    "plt.contour(x1_grid, x2_grid, discriminants[:,:,0] - discriminants[:,:,1], levels = 0, colors = \"k\")\n",
    "plt.contour(x1_grid, x2_grid, discriminants[:,:,0] - discriminants[:,:,2], levels = 0, colors = \"k\")\n",
    "plt.contour(x1_grid, x2_grid, discriminants[:,:,0] - discriminants[:,:,3], levels = 0, colors = \"k\")\n",
    "\n",
    "plt.contour(x1_grid, x2_grid, discriminants[:,:,1] - discriminants[:,:,2], levels = 0, colors = \"k\")\n",
    "plt.contour(x1_grid, x2_grid, discriminants[:,:,1] - discriminants[:,:,3], levels = 0, colors = \"k\")\n",
    "\n",
    "plt.contour(x1_grid, x2_grid, discriminants[:,:,2] - discriminants[:,:,3], levels = 0, colors = \"k\")\n",
    "\n",
    "point_colors = ['r', 'g', 'b', 'm']\n",
    "\n",
    "plt.xlim((-8, +8))\n",
    "plt.ylim((-8, +8))\n",
    "plt.xlabel(\"$x_1$\")\n",
    "plt.ylabel(\"$x_2$\")\n",
    "plt.show()"
   ]
  },
  {
   "cell_type": "code",
   "execution_count": null,
   "id": "f3660f47",
   "metadata": {
    "pycharm": {
     "name": "#%%\n"
    }
   },
   "outputs": [],
   "source": []
  }
 ],
 "metadata": {
  "kernelspec": {
   "display_name": "Python 3 (ipykernel)",
   "language": "python",
   "name": "python3"
  },
  "language_info": {
   "codemirror_mode": {
    "name": "ipython",
    "version": 3
   },
   "file_extension": ".py",
   "mimetype": "text/x-python",
   "name": "python",
   "nbconvert_exporter": "python",
   "pygments_lexer": "ipython3",
   "version": "3.10.2"
  }
 },
 "nbformat": 4,
 "nbformat_minor": 5
}