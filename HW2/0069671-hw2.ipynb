{
 "cells": [
  {
   "cell_type": "markdown",
   "id": "7538930e",
   "metadata": {
    "pycharm": {
     "name": "#%% md\n"
    }
   },
   "source": [
    "# Homework 02: Naïve Bayes’ Classifier\n",
    "## Kerem Girenes\n",
    "### March 21, 2022"
   ]
  },
  {
   "cell_type": "code",
   "execution_count": 1,
   "id": "de0802ca",
   "metadata": {
    "pycharm": {
     "name": "#%%\n"
    }
   },
   "outputs": [],
   "source": [
    "import matplotlib.pyplot as plt\n",
    "import numpy as np\n",
    "import pandas as pd\n",
    "import scipy.stats as stats\n",
    "\n",
    "def safelog(x):\n",
    "    return(np.log(x + 1e-100))"
   ]
  },
  {
   "cell_type": "markdown",
   "id": "9ffca672",
   "metadata": {
    "pycharm": {
     "name": "#%% md\n"
    }
   },
   "source": [
    "## Import Data"
   ]
  },
  {
   "cell_type": "code",
   "execution_count": 2,
   "id": "8e5e0531",
   "metadata": {
    "pycharm": {
     "name": "#%%\n"
    }
   },
   "outputs": [
    {
     "name": "stdout",
     "output_type": "stream",
     "text": [
      "(5, 39, 320) \n",
      "\n",
      "(5, 39) \n",
      "\n"
     ]
    }
   ],
   "source": [
    "images = np.genfromtxt('hw02_data_set_images.csv',delimiter=',').reshape(5, 39, 320)\n",
    "labels = np.char.strip(np.genfromtxt('hw02_data_set_labels.csv',delimiter=',',dtype=str),'\"').reshape(5, 39).astype(int)\n",
    "\n",
    "print(images.shape,\"\\n\")\n",
    "print(labels.shape,\"\\n\")"
   ]
  },
  {
   "cell_type": "markdown",
   "id": "34517cd5",
   "metadata": {
    "pycharm": {
     "name": "#%% md\n"
    }
   },
   "source": [
    "## Create Training and Test Sets"
   ]
  },
  {
   "cell_type": "code",
   "execution_count": 3,
   "id": "b6260500",
   "metadata": {
    "pycharm": {
     "name": "#%%\n"
    }
   },
   "outputs": [
    {
     "name": "stdout",
     "output_type": "stream",
     "text": [
      "(125,)\n",
      "(125, 320)\n",
      "125\n",
      "[[0. 0. 0. ... 0. 0. 0.]\n",
      " [0. 0. 0. ... 1. 1. 1.]\n",
      " [0. 0. 0. ... 1. 1. 1.]\n",
      " ...\n",
      " [0. 0. 0. ... 0. 0. 0.]\n",
      " [0. 1. 1. ... 1. 1. 0.]\n",
      " [0. 0. 0. ... 0. 0. 0.]]\n"
     ]
    }
   ],
   "source": [
    "x_train = images[:,:25,:].reshape(125, 320)  #training set images\n",
    "y_train = labels[:,:25].reshape(125,)  #training set labels\n",
    "\n",
    "x_test = images[:,25:,:].reshape(70, 320)  #test set images\n",
    "y_test = labels[:,25:].reshape(70,)  #test set labels\n",
    "\n",
    "# class size\n",
    "K = np.amax(y_train)\n",
    "\n",
    "# character size\n",
    "C = x_train.shape[1]\n",
    "\n",
    "# training set size\n",
    "N_train = y_train.shape[0]\n",
    "\n",
    "# test set size\n",
    "N_test = y_test.shape[0]\n",
    "\n",
    "print(y_train.shape)\n",
    "print(x_train.shape)\n",
    "\n",
    "print(N_train)\n",
    "\n",
    "print(x_train)"
   ]
  },
  {
   "cell_type": "markdown",
   "id": "ce5621b4",
   "metadata": {
    "pycharm": {
     "name": "#%% md\n"
    }
   },
   "source": [
    "## Parameter Estimation"
   ]
  },
  {
   "cell_type": "code",
   "execution_count": 4,
   "id": "b02c9c13",
   "metadata": {
    "pycharm": {
     "name": "#%%\n"
    }
   },
   "outputs": [
    {
     "name": "stdout",
     "output_type": "stream",
     "text": [
      "[[0.   0.   0.   ... 0.68 0.68 0.64]\n",
      " [0.04 0.24 0.24 ... 0.8  0.56 0.24]\n",
      " [0.   0.   0.   ... 0.6  0.88 0.8 ]\n",
      " [0.12 0.44 0.4  ... 0.28 0.16 0.08]\n",
      " [0.   0.12 0.12 ... 0.32 0.48 0.44]]\n",
      "[0.2 0.2 0.2 0.2 0.2]\n"
     ]
    }
   ],
   "source": [
    "pcd = [[0 for c in range(C)] for k in range(K)]\n",
    "priors = []\n",
    "\n",
    "for k in range(K):\n",
    "    for c in range(C):\n",
    "        pixel_total = 0\n",
    "        for n in range(int(k*(N_train/K)), int((k+1)*(N_train/K))):\n",
    "            pixel_total += x_train[n][c]\n",
    "        pcd[k][c] = pixel_total / (N_train/K)\n",
    "        \n",
    "pcd = np.array(pcd)\n",
    "\n",
    "print(pcd)\n",
    "\n",
    "priors = np.array([np.mean(y_train == (c + 1)) for c in range(K)])\n",
    "\n",
    "print(priors)"
   ]
  },
  {
   "cell_type": "code",
   "execution_count": 5,
   "id": "71929ad2",
   "metadata": {
    "scrolled": true,
    "pycharm": {
     "name": "#%%\n"
    }
   },
   "outputs": [
    {
     "data": {
      "text/plain": "<Figure size 1152x1440 with 5 Axes>",
      "image/png": "[encoded data removed]"
     },
     "metadata": {
      "needs_background": "light"
     },
     "output_type": "display_data"
    }
   ],
   "source": [
    "fig, axs = plt.subplots(1,5,figsize=(16, 20), sharey=True)\n",
    "for i in range(K):\n",
    "    axs[i].imshow(pcd[i].reshape(16,20).T, cmap=\"Greys\",interpolation='none')\n",
    "plt.show()"
   ]
  },
  {
   "cell_type": "markdown",
   "id": "864595f5",
   "metadata": {
    "pycharm": {
     "name": "#%% md\n"
    }
   },
   "source": [
    "## Score Function"
   ]
  },
  {
   "cell_type": "code",
   "execution_count": 6,
   "id": "d47c2ddc",
   "metadata": {
    "pycharm": {
     "name": "#%%\n"
    }
   },
   "outputs": [],
   "source": [
    "def g(k, x, n):\n",
    "    val = 0\n",
    "    for c in range(C):\n",
    "        val += np.dot(x[n][c], safelog(pcd[k][c].T)) + np.dot((1-x[n][c]), safelog(1-pcd[k][c].T))\n",
    "    val += safelog(priors[k])\n",
    "    return val"
   ]
  },
  {
   "cell_type": "markdown",
   "id": "30416572",
   "metadata": {
    "pycharm": {
     "name": "#%% md\n"
    }
   },
   "source": [
    "## Training Set Scores"
   ]
  },
  {
   "cell_type": "code",
   "execution_count": 7,
   "id": "8e4a63bf",
   "metadata": {
    "pycharm": {
     "name": "#%%\n"
    }
   },
   "outputs": [
    {
     "name": "stdout",
     "output_type": "stream",
     "text": [
      "y_truth   1   2   3   4   5\n",
      "y_pred                     \n",
      "1        25   0   0   0   0\n",
      "2         0  24   1   0   1\n",
      "3         0   0  24   0   0\n",
      "4         0   1   0  25   0\n",
      "5         0   0   0   0  24\n"
     ]
    }
   ],
   "source": [
    "scores_train = []\n",
    "for n in range(N_train):\n",
    "    score = np.argmax([g(k, x_train, n) for k in range(K)]) + 1\n",
    "    scores_train.append(score)\n",
    "    \n",
    "scores_train = np.array(scores_train)\n",
    "\n",
    "train_confusion_matrix = pd.crosstab(scores_train, y_train, \n",
    "                                     rownames = [\"y_pred\"], \n",
    "                                     colnames = [\"y_truth\"])\n",
    "print(train_confusion_matrix)"
   ]
  },
  {
   "cell_type": "markdown",
   "id": "a0fd5ee5",
   "metadata": {
    "pycharm": {
     "name": "#%% md\n"
    }
   },
   "source": [
    "## Test Set Scores"
   ]
  },
  {
   "cell_type": "code",
   "execution_count": 8,
   "id": "f1edaa04",
   "metadata": {
    "pycharm": {
     "name": "#%%\n"
    }
   },
   "outputs": [
    {
     "name": "stdout",
     "output_type": "stream",
     "text": [
      "y_truth  1   2  3   4   5\n",
      "y_pred                   \n",
      "1        7   0  0   0   0\n",
      "2        0  11  3   2   4\n",
      "3        0   0  7   0   0\n",
      "4        7   3  3  12   0\n",
      "5        0   0  1   0  10\n"
     ]
    }
   ],
   "source": [
    "scores_test = []\n",
    "for n in range(N_test):\n",
    "    score = np.argmax([g(k, x_test, n) for k in range(K)]) + 1\n",
    "    scores_test.append(score)\n",
    "    \n",
    "scores_test = np.array(scores_test)\n",
    "\n",
    "test_confusion_matrix = pd.crosstab(scores_test, y_test, \n",
    "                                    rownames = [\"y_pred\"], \n",
    "                                    colnames = [\"y_truth\"])\n",
    "\n",
    "print(test_confusion_matrix)"
   ]
  }
 ],
 "metadata": {
  "kernelspec": {
   "display_name": "Python 3 (ipykernel)",
   "language": "python",
   "name": "python3"
  },
  "language_info": {
   "codemirror_mode": {
    "name": "ipython",
    "version": 3
   },
   "file_extension": ".py",
   "mimetype": "text/x-python",
   "name": "python",
   "nbconvert_exporter": "python",
   "pygments_lexer": "ipython3",
   "version": "3.10.2"
  }
 },
 "nbformat": 4,
 "nbformat_minor": 5
}