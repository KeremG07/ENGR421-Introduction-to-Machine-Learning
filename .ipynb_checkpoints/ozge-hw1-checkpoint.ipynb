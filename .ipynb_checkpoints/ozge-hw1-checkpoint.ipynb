{
 "cells": [
  {
   "cell_type": "markdown",
   "metadata": {},
   "source": [
    "# ÖZGE SAYAR"
   ]
  },
  {
   "cell_type": "markdown",
   "metadata": {},
   "source": [
    "# ENGR421 HOMEWORK 1"
   ]
  },
  {
   "cell_type": "code",
   "execution_count": 3,
   "metadata": {},
   "outputs": [],
   "source": [
    "import math\n",
    "import matplotlib.pyplot as plt\n",
    "import numpy as np\n",
    "import pandas as pd\n",
    "import scipy.stats as stats\n",
    "\n",
    "def safelog(x):\n",
    "    return(np.log(x + 1e-100))"
   ]
  },
  {
   "cell_type": "markdown",
   "metadata": {},
   "source": [
    "## Parameters"
   ]
  },
  {
   "cell_type": "code",
   "execution_count": 4,
   "metadata": {},
   "outputs": [],
   "source": [
    "np.random.seed(421)\n",
    "\n",
    "#mean parameters\n",
    "class_means = np.array ([[+0.0, +4.5],\n",
    "                        [-4.5,-1.0],\n",
    "                        [+4.5,-1.0],\n",
    "                        [+0.0,-4.0]])\n",
    "#covarience parameters\n",
    "class_covariances= np.array([[[+3.2, +0.0], \n",
    "                             [+0.0, +1.2]],\n",
    "                            [[+1.2, +0.8], \n",
    "                             [+0.8, +1.2]],\n",
    "                            [[+1.2, -0.8], \n",
    "                             [-0.8, +1.2]],\n",
    "                            [[+1.2, +0.0], \n",
    "                             [+0.0, +3.2]]])\n",
    "class_sizes= np.array([105, 145, 135, 115])"
   ]
  },
  {
   "cell_type": "markdown",
   "metadata": {},
   "source": [
    "## Data Generation"
   ]
  },
  {
   "cell_type": "code",
   "execution_count": 5,
   "metadata": {},
   "outputs": [],
   "source": [
    "#generate random samples\n",
    "points1= np.random.multivariate_normal(mean = class_means[0,:],\n",
    "                          cov = class_covariances[0,:,:],\n",
    "                          size = class_sizes[0])\n",
    "points2= np.random.multivariate_normal(mean = class_means[1,:],\n",
    "                          cov = class_covariances[1,:,:],\n",
    "                          size = class_sizes[1])\n",
    "points3= np.random.multivariate_normal(mean = class_means[2,:],\n",
    "                          cov = class_covariances[2,:,:],\n",
    "                          size = class_sizes[2])\n",
    "points4= np.random.multivariate_normal(mean = class_means[3,:],\n",
    "                          cov = class_covariances[3,:,:],\n",
    "                          size = class_sizes[3])\n",
    "x = np.vstack((points1, points2, points3, points4))\n",
    "\n",
    "# generate corresponding labels\n",
    "y = np.concatenate((np.repeat(1, class_sizes[0]), np.repeat(2, class_sizes[1]), np.repeat(3, class_sizes[2]), np.repeat(4, class_sizes[3])))\n"
   ]
  },
  {
   "cell_type": "markdown",
   "metadata": {},
   "source": [
    "## Exporting Data"
   ]
  },
  {
   "cell_type": "code",
   "execution_count": 6,
   "metadata": {},
   "outputs": [],
   "source": [
    "# write data to a file\n",
    "np.savetxt(\"hw1.csv\", np.hstack((x, y[:, None])), fmt = \"%f,%f,%d\")"
   ]
  },
  {
   "cell_type": "code",
   "execution_count": 7,
   "metadata": {},
   "outputs": [
    {
     "data": {
      "image/png": "[encoded data removed]",
      "text/plain": [
       "<Figure size 576x576 with 1 Axes>"
      ]
     },
     "metadata": {
      "needs_background": "light"
     },
     "output_type": "display_data"
    }
   ],
   "source": [
    "#plotting data\n",
    "\n",
    "x1_interval = np.linspace(-8, +8, 1001)\n",
    "x2_interval = np.linspace(-8, +8, 1001)\n",
    "\n",
    "x1_grid, x2_grid = np.meshgrid(x1_interval, x2_interval)\n",
    "X_grid = np.vstack((x1_grid.flatten(), x2_grid.flatten())).T\n",
    "\n",
    "D1 = stats.multivariate_normal.pdf(X_grid, mean = class_means[0,:],\n",
    "                                   cov = class_covariances[0,:,:])\n",
    "D1 = D1.reshape((len(x1_interval), len(x2_interval)))\n",
    "\n",
    "D2 = stats.multivariate_normal.pdf(X_grid, mean = class_means[1,:],\n",
    "                                   cov = class_covariances[1,:,:])\n",
    "D2 = D2.reshape((len(x1_interval), len(x2_interval)))\n",
    "\n",
    "D3 = stats.multivariate_normal.pdf(X_grid, mean = class_means[2,:],\n",
    "                                   cov = class_covariances[2,:,:])\n",
    "D3 = D3.reshape((len(x1_interval), len(x2_interval)))\n",
    "\n",
    "D4 = stats.multivariate_normal.pdf(X_grid, mean = class_means[3,:],\n",
    "                                   cov = class_covariances[3,:,:])\n",
    "D4 = D4.reshape((len(x1_interval), len(x2_interval)))\n",
    "\n",
    "# plot data points generated\n",
    "plt.figure(figsize = (8, 8))\n",
    "plt.plot(points1[:,0], points1[:,1], \"r.\", markersize = 10)\n",
    "plt.plot(points2[:,0], points2[:,1], \"g.\", markersize = 10)\n",
    "plt.plot(points3[:,0], points3[:,1], \"b.\", markersize = 10)\n",
    "plt.plot(points4[:,0], points4[:,1], \"m.\", markersize = 10)\n",
    "\n",
    "#plt.contour(x1_grid, x2_grid, D1, levels = [0.03, 0.06, 0.09, 0.12],\n",
    "#            colors = \"a\", linestyles = \"dashed\")\n",
    "#plt.contour(x1_grid, x2_grid, D2, levels = [0.03, 0.06, 0.09, 0.12],\n",
    "#            colors = \"b\", linestyles = \"dashed\")\n",
    "\n",
    "plt.xlim((-8, +8))\n",
    "plt.ylim((-8, +8))\n",
    "plt.xlabel(\"$x_1$\")\n",
    "plt.ylabel(\"$x_2$\")\n",
    "plt.show()"
   ]
  },
  {
   "cell_type": "code",
   "execution_count": 8,
   "metadata": {},
   "outputs": [],
   "source": [
    "#import data\n",
    "\n",
    "# read data into memory\n",
    "data_set = np.genfromtxt(\"hw1.csv\", delimiter = \",\")\n",
    "\n",
    "# get x and y values\n",
    "X = data_set[:,[0, 1]]\n",
    "y_truth = data_set[:,2].astype(int)\n",
    "\n",
    "# get number of classes and number of samples\n",
    "K = np.max(y_truth)\n",
    "N = data_set.shape[0]\n"
   ]
  },
  {
   "cell_type": "markdown",
   "metadata": {},
   "source": [
    "## Parameter Estimation"
   ]
  },
  {
   "cell_type": "code",
   "execution_count": 12,
   "metadata": {},
   "outputs": [
    {
     "name": "stdout",
     "output_type": "stream",
     "text": [
      "[array([0.14550241, 4.55638816]), array([-4.45510875, -0.92632895]), array([ 4.48187484, -1.02664884]), array([-0.15761939, -3.93467956])]\n",
      "[array([[ 3.10589045, -1.07171913,  2.72162278, ...,  1.66777693,\n",
      "         1.40700848, -3.96472486],\n",
      "       [-1.07171913,  0.37154646, -0.8728077 , ..., -0.50533417,\n",
      "        -0.49358247,  1.37257662],\n",
      "       [ 2.72162278, -0.8728077 ,  4.9140273 , ...,  4.1367578 ,\n",
      "         0.9247838 , -3.30227894],\n",
      "       ...,\n",
      "       [ 1.66777693, -0.50533417,  4.1367578 , ...,  3.72551444,\n",
      "         0.42956613, -1.94708819],\n",
      "       [ 1.40700848, -0.49358247,  0.9247838 , ...,  0.42956613,\n",
      "         0.67493724, -1.81701827],\n",
      "       [-3.96472486,  1.37257662, -3.30227894, ..., -1.94708819,\n",
      "        -1.81701827,  5.07272899]]), array([[ 0.82238729,  0.53210279,  0.27321681, ..., -0.17979957,\n",
      "         2.16661768,  1.49633645],\n",
      "       [ 0.53210279,  0.59802496,  0.56336209, ...,  0.23410422,\n",
      "         1.69723742,  1.45403836],\n",
      "       [ 0.27321681,  0.56336209,  0.67974297, ...,  0.47417014,\n",
      "         1.16983483,  1.23736525],\n",
      "       ...,\n",
      "       [-0.17979957,  0.23410422,  0.47417014, ...,  0.52329288,\n",
      "        -0.06573663,  0.34388631],\n",
      "       [ 2.16661768,  1.69723742,  1.16983483, ..., -0.06573663,\n",
      "         6.05192323,  4.5077873 ],\n",
      "       [ 1.49633645,  1.45403836,  1.23736525, ...,  0.34388631,\n",
      "         4.5077873 ,  3.65296109]]), array([[ 3.10814259, -0.61742873, -1.2888326 , ...,  0.01851707,\n",
      "        -0.28779368, -2.38316097],\n",
      "       [-0.61742873,  0.16790227,  0.39537715, ...,  0.03199915,\n",
      "         0.01055121,  0.64730668],\n",
      "       [-1.2888326 ,  0.39537715,  0.96357344, ...,  0.10219243,\n",
      "        -0.02422701,  1.52372672],\n",
      "       ...,\n",
      "       [ 0.01851707,  0.03199915,  0.10219243, ...,  0.02823991,\n",
      "        -0.03847057,  0.12290758],\n",
      "       [-0.28779368,  0.01055121, -0.02422701, ..., -0.03847057,\n",
      "         0.07467566,  0.04151395],\n",
      "       [-2.38316097,  0.64730668,  1.52372672, ...,  0.12290758,\n",
      "         0.04151395,  2.4955442 ]]), array([[ 6.39943635,  3.88499305,  3.5543705 , ..., -1.02277261,\n",
      "         0.35561255, -5.02739848],\n",
      "       [ 3.88499305,  2.64840967,  2.32795459, ..., -1.50713753,\n",
      "        -0.32111758, -0.86810095],\n",
      "       [ 3.5543705 ,  2.32795459,  2.07403883, ..., -1.08824333,\n",
      "        -0.11768266, -1.51043575],\n",
      "       ...,\n",
      "       [-1.02277261, -1.50713753, -1.08824333, ...,  2.87273455,\n",
      "         1.58482961, -5.87301982],\n",
      "       [ 0.35561255, -0.32111758, -0.11768266, ...,  1.58482961,\n",
      "         1.01451598, -4.32495293],\n",
      "       [-5.02739848, -0.86810095, -1.51043575, ..., -5.87301982,\n",
      "        -4.32495293, 20.40257137]])]\n",
      "[0.21, 0.29, 0.27, 0.23]\n"
     ]
    }
   ],
   "source": [
    "# sample means\n",
    "sample_means = [np.mean(x[y==(c+1)], axis=0) for c in range(K)]\n",
    "\n",
    "# sample deviations\n",
    "sample_covariances = [np.matmul((x[y == (c + 1)] - sample_means[c]),(np.transpose(x[y == (c + 1)] - sample_means[c]))) for c in range(K)]\n",
    "\n",
    "# prior probabilities\n",
    "class_priors = [np.mean(y == (c + 1)) for c in range(K)]\n",
    "\n",
    "\n",
    "print(sample_means)\n",
    "\n",
    "print(sample_covariances)\n",
    "print(class_priors)"
   ]
  },
  {
   "cell_type": "markdown",
   "metadata": {},
   "source": [
    "## Confusion Matrix "
   ]
  },
  {
   "cell_type": "code",
   "execution_count": 132,
   "metadata": {},
   "outputs": [
    {
     "ename": "NameError",
     "evalue": "name 'sigmoid' is not defined",
     "output_type": "error",
     "traceback": [
      "\u001b[1;31m---------------------------------------------------------------------------\u001b[0m",
      "\u001b[1;31mNameError\u001b[0m                                 Traceback (most recent call last)",
      "\u001b[1;32m<ipython-input-132-3b0f57f2d224>\u001b[0m in \u001b[0;36m<module>\u001b[1;34m\u001b[0m\n\u001b[0;32m     19\u001b[0m \u001b[0mobjective_values\u001b[0m \u001b[1;33m=\u001b[0m \u001b[1;33m[\u001b[0m\u001b[1;33m]\u001b[0m\u001b[1;33m\u001b[0m\u001b[1;33m\u001b[0m\u001b[0m\n\u001b[0;32m     20\u001b[0m \u001b[1;32mwhile\u001b[0m \u001b[1;32mTrue\u001b[0m\u001b[1;33m:\u001b[0m\u001b[1;33m\u001b[0m\u001b[1;33m\u001b[0m\u001b[0m\n\u001b[1;32m---> 21\u001b[1;33m     \u001b[0my_predicted\u001b[0m \u001b[1;33m=\u001b[0m \u001b[0msigmoid\u001b[0m\u001b[1;33m(\u001b[0m\u001b[0mX\u001b[0m\u001b[1;33m,\u001b[0m \u001b[0mw\u001b[0m\u001b[1;33m,\u001b[0m \u001b[0mw0\u001b[0m\u001b[1;33m)\u001b[0m\u001b[1;33m\u001b[0m\u001b[1;33m\u001b[0m\u001b[0m\n\u001b[0m\u001b[0;32m     22\u001b[0m \u001b[1;33m\u001b[0m\u001b[0m\n\u001b[0;32m     23\u001b[0m     objective_values = np.append(objective_values,\n",
      "\u001b[1;31mNameError\u001b[0m: name 'sigmoid' is not defined"
     ]
    }
   ],
   "source": [
    "# define the gradient functions\n",
    "def gradient_w(X, y_truth, y_predicted):\n",
    "    return(-np.matmul(y_truth - y_predicted, X))\n",
    "\n",
    "def gradient_w0(y_truth, y_predicted):\n",
    "    return(-np.sum(y_truth - y_predicted))\n",
    "\n",
    "# set learning parameters\n",
    "eta = 0.01\n",
    "epsilon = 0.001\n",
    "\n",
    "# randomly initalize w and w0\n",
    "np.random.seed(421)\n",
    "w = np.random.uniform(low = -0.01, high = 0.01, size = X.shape[1])\n",
    "w0 = np.random.uniform(low = -0.01, high = 0.01, size = 1)\n",
    "\n",
    "# learn w and w0 using gradient descent\n",
    "iteration = 1\n",
    "objective_values = []\n",
    "while True:\n",
    "    y_predicted = sigmoid(X, w, w0)\n",
    "\n",
    "    objective_values = np.append(objective_values,\n",
    "                                 -np.sum(y_truth * safelog(y_predicted) + \n",
    "                                         (1 - y_truth) * safelog(1 - y_predicted)))\n",
    "\n",
    "    w_old = w\n",
    "    w0_old = w0\n",
    "\n",
    "    w = w - eta * gradient_w(X, y_truth, y_predicted)\n",
    "    w0 = w0 - eta * gradient_w0(y_truth, y_predicted)\n",
    "\n",
    "    if np.sqrt((w0 - w0_old)**2 + np.sum((w - w_old)**2)) < epsilon:\n",
    "        break\n",
    "\n",
    "    iteration = iteration + 1\n",
    "print(w, w0)\n",
    "\n",
    "\n",
    "\n",
    "# confusion matrix\n",
    "y_predicted = 1 * (y_predicted > 0.5)\n",
    "confusion_matrix = pd.crosstab(y_predicted, y_truth, \n",
    "                               rownames = [\"y_pred\"], \n",
    "                               colnames = [\"y_truth\"])\n",
    "print(confusion_matrix)"
   ]
  },
  {
   "cell_type": "code",
   "execution_count": null,
   "metadata": {},
   "outputs": [],
   "source": []
  }
 ],
 "metadata": {
  "kernelspec": {
   "display_name": "Python 3 (ipykernel)",
   "language": "python",
   "name": "python3"
  },
  "language_info": {
   "codemirror_mode": {
    "name": "ipython",
    "version": 3
   },
   "file_extension": ".py",
   "mimetype": "text/x-python",
   "name": "python",
   "nbconvert_exporter": "python",
   "pygments_lexer": "ipython3",
   "version": "3.10.2"
  }
 },
 "nbformat": 4,
 "nbformat_minor": 2
}
